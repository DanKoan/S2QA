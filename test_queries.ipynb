{
 "cells": [
  {
   "cell_type": "code",
   "execution_count": 1,
   "metadata": {},
   "outputs": [],
   "source": [
    "from utils import *"
   ]
  },
  {
   "cell_type": "code",
   "execution_count": 2,
   "metadata": {},
   "outputs": [],
   "source": [
    "query1 = \"what are some transformer based approaches for information retrieval?\"\n",
    "\n",
    "# search and re-rank for the query\n",
    "df = get_results(query1)\n",
    "df, query1 = rerank(df, query1)\n",
    "docs = get_doc_objects_from_df(df)\n",
    "chain_output = get_langchain_response(docs, query1, k=5) #  k=df.shape[0] to get all the results"
   ]
  },
  {
   "cell_type": "code",
   "execution_count": 4,
   "metadata": {},
   "outputs": [
    {
     "data": {
      "text/markdown": [
       "## Question\n",
       "\n"
      ],
      "text/plain": [
       "<IPython.core.display.Markdown object>"
      ]
     },
     "metadata": {},
     "output_type": "display_data"
    },
    {
     "data": {
      "text/markdown": [
       "### what are some transformer based approaches for information retrieval?\n",
       "\n"
      ],
      "text/plain": [
       "<IPython.core.display.Markdown object>"
      ]
     },
     "metadata": {},
     "output_type": "display_data"
    },
    {
     "data": {
      "text/markdown": [
       "## Answer\n",
       "\n"
      ],
      "text/plain": [
       "<IPython.core.display.Markdown object>"
      ]
     },
     "metadata": {},
     "output_type": "display_data"
    },
    {
     "data": {
      "text/markdown": [
       "### Transformer based approaches for information retrieval include using transformer networks, adapting a system based on a pretrained BERT for document and snippet retrieval, question answering and summarization, using a hybrid approach combining classical (PRF) and transformer (AraBERT), using a transformer model to select key blocks of a long document, using an interaction-based approach combining query tokens and document tokens, using transformer-based dense retrievers, using multi-label classification and information retrieval approaches, using an adversarially trained transformer for Persian temporal tagging, and using transformer-based architectures such as BERT, XLNet and RoBERTa.\n",
       "\n"
      ],
      "text/plain": [
       "<IPython.core.display.Markdown object>"
      ]
     },
     "metadata": {},
     "output_type": "display_data"
    },
    {
     "data": {
      "text/markdown": [
       "## Sources: \n",
       "\n"
      ],
      "text/plain": [
       "<IPython.core.display.Markdown object>"
      ]
     },
     "metadata": {},
     "output_type": "display_data"
    },
    {
     "data": {
      "text/markdown": [
       "* #### [Lecture Notes on Neural Information Retrieval](https://www.semanticscholar.org/paper/4e042409c4dc5210787fcd149485a59be3eef0f6) - ArXiv, 2022"
      ],
      "text/plain": [
       "<IPython.core.display.Markdown object>"
      ]
     },
     "metadata": {},
     "output_type": "display_data"
    },
    {
     "data": {
      "text/markdown": [
       "* #### [Improving Efficiency and Robustness of Transformer-based Information Retrieval Systems](https://www.semanticscholar.org/paper/80d7b66d4d6a0d47bf4e7e9ef1277e72b9526cfb) - Annual International ACM SIGIR Conference on Research and Development in Information Retrieval, 2022"
      ],
      "text/plain": [
       "<IPython.core.display.Markdown object>"
      ]
     },
     "metadata": {},
     "output_type": "display_data"
    },
    {
     "data": {
      "text/markdown": [
       "* #### [A Hybrid Semantic Statistical Query Expansion for Arabic Information Retrieval Systems](https://www.semanticscholar.org/paper/9abbb9abf2d512f210e33e3e923bb726323ed874) - International Symposium on Information and Automation, 2022"
      ],
      "text/plain": [
       "<IPython.core.display.Markdown object>"
      ]
     },
     "metadata": {},
     "output_type": "display_data"
    },
    {
     "data": {
      "text/markdown": [
       "* #### [Transformer-Based Open Domain Biomedical Question Answering at BioASQ8 Challenge](https://www.semanticscholar.org/paper/ce1956497b7d8e40860d18f4484fccfa00276884) - Conference and Labs of the Evaluation Forum, 2020"
      ],
      "text/plain": [
       "<IPython.core.display.Markdown object>"
      ]
     },
     "metadata": {},
     "output_type": "display_data"
    },
    {
     "data": {
      "text/markdown": [
       "Source not found: 9583d94fe6297acb3f28"
      ],
      "text/plain": [
       "<IPython.core.display.Markdown object>"
      ]
     },
     "metadata": {},
     "output_type": "display_data"
    }
   ],
   "source": [
    "return_answer_markdown(chain_output, df, query1)"
   ]
  },
  {
   "cell_type": "code",
   "execution_count": null,
   "metadata": {},
   "outputs": [],
   "source": []
  }
 ],
 "metadata": {
  "kernelspec": {
   "display_name": "misc",
   "language": "python",
   "name": "python3"
  },
  "language_info": {
   "codemirror_mode": {
    "name": "ipython",
    "version": 3
   },
   "file_extension": ".py",
   "mimetype": "text/x-python",
   "name": "python",
   "nbconvert_exporter": "python",
   "pygments_lexer": "ipython3",
   "version": "3.9.16"
  },
  "orig_nbformat": 4,
  "vscode": {
   "interpreter": {
    "hash": "4fbfa9044b95e6f6717ef013aac1b71f8b1f998a3df349d4a874bbb0804681f7"
   }
  }
 },
 "nbformat": 4,
 "nbformat_minor": 2
}
